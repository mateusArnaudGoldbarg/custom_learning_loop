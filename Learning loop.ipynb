{
 "cells": [
  {
   "cell_type": "code",
   "execution_count": 2,
   "metadata": {},
   "outputs": [],
   "source": [
    "import tensorflow as tf\n",
    "from tensorflow import keras\n",
    "from tensorflow.keras import layers\n",
    "import numpy as np\n",
    "import os\n",
    "import matplotlib.pyplot as plt\n",
    "from tensorflow.keras import datasets, layers, models\n",
    "import tensorflow as tf"
   ]
  },
  {
   "cell_type": "code",
   "execution_count": 3,
   "metadata": {},
   "outputs": [
    {
     "name": "stdout",
     "output_type": "stream",
     "text": [
      "TensorFlow version: 2.4.1\n",
      "Eager execution: True\n"
     ]
    }
   ],
   "source": [
    "print(\"TensorFlow version: {}\".format(tf.__version__))\n",
    "print(\"Eager execution: {}\".format(tf.executing_eagerly()))"
   ]
  },
  {
   "cell_type": "code",
   "execution_count": 4,
   "metadata": {},
   "outputs": [],
   "source": [
    "(x_train, y_train), (x_test, y_test) = keras.datasets.mnist.load_data()\n",
    "#x_train = np.reshape(x_train, (-1, 784))\n",
    "#x_test = np.reshape(x_test, (-1, 784))\n",
    "#train_dataset = tf.data.Dataset.from_tensor_slices((x_train, y_train))\n"
   ]
  },
  {
   "cell_type": "code",
   "execution_count": 5,
   "metadata": {},
   "outputs": [
    {
     "data": {
      "text/plain": [
       "(60000, 28, 28)"
      ]
     },
     "execution_count": 5,
     "metadata": {},
     "output_type": "execute_result"
    }
   ],
   "source": [
    "x_train.shape"
   ]
  },
  {
   "cell_type": "code",
   "execution_count": 6,
   "metadata": {},
   "outputs": [
    {
     "data": {
      "text/plain": [
       "(10000, 28, 28)"
      ]
     },
     "execution_count": 6,
     "metadata": {},
     "output_type": "execute_result"
    }
   ],
   "source": [
    "x_test.shape"
   ]
  },
  {
   "cell_type": "code",
   "execution_count": 7,
   "metadata": {},
   "outputs": [
    {
     "data": {
      "text/plain": [
       "60000"
      ]
     },
     "execution_count": 7,
     "metadata": {},
     "output_type": "execute_result"
    }
   ],
   "source": [
    "x_train.shape[0]"
   ]
  },
  {
   "cell_type": "code",
   "execution_count": 8,
   "metadata": {},
   "outputs": [],
   "source": [
    "def plot_sample(x,y,index):\n",
    "    plt.figure(figsize = (20,5))\n",
    "    plt.imshow(x[index])\n",
    "    plt.xlabel(y[index])"
   ]
  },
  {
   "cell_type": "code",
   "execution_count": 9,
   "metadata": {},
   "outputs": [
    {
     "data": {
      "image/png": "[encoded data removed]",
      "text/plain": [
       "<Figure size 1440x360 with 1 Axes>"
      ]
     },
     "metadata": {
      "needs_background": "light"
     },
     "output_type": "display_data"
    },
    {
     "data": {
      "image/png": "[encoded data removed]",
      "text/plain": [
       "<Figure size 1440x360 with 1 Axes>"
      ]
     },
     "metadata": {
      "needs_background": "light"
     },
     "output_type": "display_data"
    },
    {
     "data": {
      "image/png": "[encoded data removed]",
      "text/plain": [
       "<Figure size 1440x360 with 1 Axes>"
      ]
     },
     "metadata": {
      "needs_background": "light"
     },
     "output_type": "display_data"
    },
    {
     "data": {
      "image/png": "[encoded data removed]",
      "text/plain": [
       "<Figure size 1440x360 with 1 Axes>"
      ]
     },
     "metadata": {
      "needs_background": "light"
     },
     "output_type": "display_data"
    },
    {
     "data": {
      "image/png": "[encoded data removed]",
      "text/plain": [
       "<Figure size 1440x360 with 1 Axes>"
      ]
     },
     "metadata": {
      "needs_background": "light"
     },
     "output_type": "display_data"
    }
   ],
   "source": [
    "for i in range(5):\n",
    "    plot_sample(x_train,y_train,i)"
   ]
  },
  {
   "cell_type": "code",
   "execution_count": 10,
   "metadata": {},
   "outputs": [],
   "source": [
    "'''NORMALIZE'''\n",
    "\n",
    "x_train = x_train/255\n",
    "x_test = x_test/255\n",
    "\n",
    "\n",
    "x_train=x_train.reshape((x_train.shape[0], 28, 28, 1))\n",
    "x_test=x_test.reshape((x_test.shape[0],28,28,1))"
   ]
  },
  {
   "cell_type": "code",
   "execution_count": 11,
   "metadata": {},
   "outputs": [],
   "source": [
    "'''MODEL'''\n",
    "model = models.Sequential([\n",
    "    layers.Conv2D(filters=32,kernel_size=(3,3),activation='relu',input_shape=(28,28,1)),\n",
    "    layers.MaxPooling2D((2,2)),\n",
    "    layers.Conv2D(filters=64,kernel_size=(3,3),activation='relu'),\n",
    "    \n",
    "    layers.Flatten(),\n",
    "    layers.Dense(64, activation='relu'),\n",
    "    layers.Dense(10, activation='softmax')\n",
    "])"
   ]
  },
  {
   "cell_type": "code",
   "execution_count": 12,
   "metadata": {},
   "outputs": [],
   "source": [
    "model.compile(optimizer='adam',\n",
    "              loss='sparse_categorical_crossentropy',\n",
    "              metrics=['accuracy'])"
   ]
  },
  {
   "cell_type": "code",
   "execution_count": 13,
   "metadata": {},
   "outputs": [
    {
     "name": "stdout",
     "output_type": "stream",
     "text": [
      "Model: \"sequential\"\n",
      "_________________________________________________________________\n",
      "Layer (type)                 Output Shape              Param #   \n",
      "=================================================================\n",
      "conv2d (Conv2D)              (None, 26, 26, 32)        320       \n",
      "_________________________________________________________________\n",
      "max_pooling2d (MaxPooling2D) (None, 13, 13, 32)        0         \n",
      "_________________________________________________________________\n",
      "conv2d_1 (Conv2D)            (None, 11, 11, 64)        18496     \n",
      "_________________________________________________________________\n",
      "flatten (Flatten)            (None, 7744)              0         \n",
      "_________________________________________________________________\n",
      "dense (Dense)                (None, 64)                495680    \n",
      "_________________________________________________________________\n",
      "dense_1 (Dense)              (None, 10)                650       \n",
      "=================================================================\n",
      "Total params: 515,146\n",
      "Trainable params: 515,146\n",
      "Non-trainable params: 0\n",
      "_________________________________________________________________\n"
     ]
    }
   ],
   "source": [
    "model.summary()"
   ]
  },
  {
   "cell_type": "code",
   "execution_count": 22,
   "metadata": {},
   "outputs": [
    {
     "name": "stdout",
     "output_type": "stream",
     "text": [
      "Epoch 1/15\n",
      "1875/1875 [==============================] - 35s 18ms/step - loss: 1.1072 - accuracy: 0.6312 - val_loss: 0.3177 - val_accuracy: 0.9094\n",
      "Epoch 2/15\n",
      "1875/1875 [==============================] - 34s 18ms/step - loss: 0.3117 - accuracy: 0.9072 - val_loss: 0.2379 - val_accuracy: 0.9294\n",
      "Epoch 3/15\n",
      "1875/1875 [==============================] - 35s 19ms/step - loss: 0.2369 - accuracy: 0.9297 - val_loss: 0.1804 - val_accuracy: 0.9452\n",
      "Epoch 4/15\n",
      "1875/1875 [==============================] - 37s 20ms/step - loss: 0.1730 - accuracy: 0.9480 - val_loss: 0.1308 - val_accuracy: 0.9615\n",
      "Epoch 5/15\n",
      "1875/1875 [==============================] - 35s 19ms/step - loss: 0.1241 - accuracy: 0.9625 - val_loss: 0.1035 - val_accuracy: 0.9682\n",
      "Epoch 6/15\n",
      "1875/1875 [==============================] - 34s 18ms/step - loss: 0.1026 - accuracy: 0.9694 - val_loss: 0.0866 - val_accuracy: 0.9738\n",
      "Epoch 7/15\n",
      "1875/1875 [==============================] - 34s 18ms/step - loss: 0.0821 - accuracy: 0.9748 - val_loss: 0.0726 - val_accuracy: 0.9765\n",
      "Epoch 8/15\n",
      "1875/1875 [==============================] - 35s 19ms/step - loss: 0.0690 - accuracy: 0.9780 - val_loss: 0.0673 - val_accuracy: 0.9789\n",
      "Epoch 9/15\n",
      "1875/1875 [==============================] - 35s 18ms/step - loss: 0.0661 - accuracy: 0.9799 - val_loss: 0.0656 - val_accuracy: 0.9797\n",
      "Epoch 10/15\n",
      "1875/1875 [==============================] - 35s 18ms/step - loss: 0.0588 - accuracy: 0.9813 - val_loss: 0.0633 - val_accuracy: 0.9802\n",
      "Epoch 11/15\n",
      "1875/1875 [==============================] - 37s 20ms/step - loss: 0.0539 - accuracy: 0.9826 - val_loss: 0.0585 - val_accuracy: 0.9810\n",
      "Epoch 12/15\n",
      "1875/1875 [==============================] - 42s 22ms/step - loss: 0.0468 - accuracy: 0.9848 - val_loss: 0.0559 - val_accuracy: 0.9813\n",
      "Epoch 13/15\n",
      "1875/1875 [==============================] - 37s 20ms/step - loss: 0.0454 - accuracy: 0.9859 - val_loss: 0.0560 - val_accuracy: 0.9816\n",
      "Epoch 14/15\n",
      "1875/1875 [==============================] - 35s 18ms/step - loss: 0.0408 - accuracy: 0.9872 - val_loss: 0.0564 - val_accuracy: 0.9828\n",
      "Epoch 15/15\n",
      "1875/1875 [==============================] - 41s 22ms/step - loss: 0.0409 - accuracy: 0.9873 - val_loss: 0.0550 - val_accuracy: 0.9831\n"
     ]
    }
   ],
   "source": [
    "\"\"\"JUMP THIS!!!\"\"\"\n",
    "history = model.fit(x_train, y_train, epochs=15,validation_data=(x_test,y_test))"
   ]
  },
  {
   "cell_type": "code",
   "execution_count": 23,
   "metadata": {},
   "outputs": [
    {
     "name": "stdout",
     "output_type": "stream",
     "text": [
      "313/313 - 1s - loss: 0.0550 - accuracy: 0.9831\n"
     ]
    },
    {
     "data": {
      "image/png": "[encoded data removed]",
      "text/plain": [
       "<Figure size 432x288 with 1 Axes>"
      ]
     },
     "metadata": {
      "needs_background": "light"
     },
     "output_type": "display_data"
    }
   ],
   "source": [
    "plt.plot(history.history['accuracy'], label='accuracy')\n",
    "plt.plot(history.history['val_accuracy'], label = 'val_accuracy')\n",
    "plt.xlabel('Epoch')\n",
    "plt.ylabel('Accuracy')\n",
    "plt.ylim([0.5, 1])\n",
    "plt.legend(loc='lower right')\n",
    "\n",
    "test_loss, test_acc = model.evaluate(x_test, y_test, verbose=2)"
   ]
  },
  {
   "cell_type": "code",
   "execution_count": null,
   "metadata": {},
   "outputs": [],
   "source": []
  },
  {
   "cell_type": "code",
   "execution_count": null,
   "metadata": {},
   "outputs": [],
   "source": []
  },
  {
   "cell_type": "code",
   "execution_count": null,
   "metadata": {},
   "outputs": [],
   "source": []
  },
  {
   "cell_type": "code",
   "execution_count": null,
   "metadata": {},
   "outputs": [],
   "source": []
  },
  {
   "cell_type": "code",
   "execution_count": null,
   "metadata": {},
   "outputs": [],
   "source": [
    "\n",
    "\n"
   ]
  },
  {
   "cell_type": "code",
   "execution_count": 14,
   "metadata": {},
   "outputs": [],
   "source": [
    "#CRIANDO O OTIMIZADOR\n",
    "optimizer = keras.optimizers.SGD(learning_rate=1e-3)\n",
    "#CRIANDO A FUNÇÃO DE PERDA\n",
    "loss_fn = keras.losses.SparseCategoricalCrossentropy(from_logits=True)\n",
    "\n",
    "# Prepare the training dataset.\n",
    "batch_size = 64\n",
    "(x_train, y_train), (x_test, y_test) = keras.datasets.mnist.load_data()\n",
    "#x_train = np.reshape(x_train, (-1, 784))\n",
    "#x_test = np.reshape(x_test, (-1, 784))\n",
    "\n",
    "x_train=x_train.reshape((x_train.shape[0], 28, 28, 1))\n",
    "x_test=x_test.reshape((x_test.shape[0],28,28,1))\n",
    "train_dataset = tf.data.Dataset.from_tensor_slices((x_train, y_train))\n",
    "train_dataset = train_dataset.shuffle(buffer_size=1024).batch(batch_size)\n"
   ]
  },
  {
   "cell_type": "code",
   "execution_count": 76,
   "metadata": {},
   "outputs": [],
   "source": []
  },
  {
   "cell_type": "code",
   "execution_count": 16,
   "metadata": {},
   "outputs": [
    {
     "name": "stdout",
     "output_type": "stream",
     "text": [
      "\n",
      "Start of epoch 0\n",
      "Training loss (for one batch) at step 0: 0.1925\n",
      "Seen so far: 64 samples\n",
      "Training loss (for one batch) at step 200: 0.1581\n",
      "Seen so far: 12864 samples\n",
      "Training loss (for one batch) at step 400: 0.3627\n",
      "Seen so far: 25664 samples\n",
      "Training loss (for one batch) at step 600: 0.1984\n",
      "Seen so far: 38464 samples\n",
      "Training loss (for one batch) at step 800: 0.3289\n",
      "Seen so far: 51264 samples\n",
      "\n",
      "Start of epoch 1\n",
      "Training loss (for one batch) at step 0: 0.0614\n",
      "Seen so far: 64 samples\n",
      "Training loss (for one batch) at step 200: 0.1534\n",
      "Seen so far: 12864 samples\n",
      "Training loss (for one batch) at step 400: 0.3740\n",
      "Seen so far: 25664 samples\n",
      "Training loss (for one batch) at step 600: 0.0536\n",
      "Seen so far: 38464 samples\n",
      "Training loss (for one batch) at step 800: 0.0778\n",
      "Seen so far: 51264 samples\n",
      "\n",
      "Start of epoch 2\n",
      "Training loss (for one batch) at step 0: 0.2326\n",
      "Seen so far: 64 samples\n",
      "Training loss (for one batch) at step 200: 0.1018\n",
      "Seen so far: 12864 samples\n",
      "Training loss (for one batch) at step 400: 0.0726\n",
      "Seen so far: 25664 samples\n",
      "Training loss (for one batch) at step 600: 0.2500\n",
      "Seen so far: 38464 samples\n",
      "Training loss (for one batch) at step 800: 0.0669\n",
      "Seen so far: 51264 samples\n",
      "\n",
      "Start of epoch 3\n",
      "Training loss (for one batch) at step 0: 0.1422\n",
      "Seen so far: 64 samples\n",
      "Training loss (for one batch) at step 200: 0.0723\n",
      "Seen so far: 12864 samples\n",
      "Training loss (for one batch) at step 400: 0.0268\n",
      "Seen so far: 25664 samples\n",
      "Training loss (for one batch) at step 600: 0.0147\n",
      "Seen so far: 38464 samples\n",
      "Training loss (for one batch) at step 800: 0.1709\n",
      "Seen so far: 51264 samples\n",
      "\n",
      "Start of epoch 4\n",
      "Training loss (for one batch) at step 0: 0.0044\n",
      "Seen so far: 64 samples\n",
      "Training loss (for one batch) at step 200: 0.0235\n",
      "Seen so far: 12864 samples\n",
      "Training loss (for one batch) at step 400: 0.0152\n",
      "Seen so far: 25664 samples\n",
      "Training loss (for one batch) at step 600: 0.0391\n",
      "Seen so far: 38464 samples\n",
      "Training loss (for one batch) at step 800: 0.1562\n",
      "Seen so far: 51264 samples\n",
      "\n",
      "Start of epoch 5\n",
      "Training loss (for one batch) at step 0: 0.0564\n",
      "Seen so far: 64 samples\n",
      "Training loss (for one batch) at step 200: 0.0078\n",
      "Seen so far: 12864 samples\n",
      "Training loss (for one batch) at step 400: 0.0043\n",
      "Seen so far: 25664 samples\n",
      "Training loss (for one batch) at step 600: 0.0402\n",
      "Seen so far: 38464 samples\n",
      "Training loss (for one batch) at step 800: 0.0033\n",
      "Seen so far: 51264 samples\n",
      "\n",
      "Start of epoch 6\n",
      "Training loss (for one batch) at step 0: 0.0628\n",
      "Seen so far: 64 samples\n",
      "Training loss (for one batch) at step 200: 0.0139\n",
      "Seen so far: 12864 samples\n",
      "Training loss (for one batch) at step 400: 0.0036\n",
      "Seen so far: 25664 samples\n",
      "Training loss (for one batch) at step 600: 0.0051\n",
      "Seen so far: 38464 samples\n",
      "Training loss (for one batch) at step 800: 0.0240\n",
      "Seen so far: 51264 samples\n",
      "\n",
      "Start of epoch 7\n",
      "Training loss (for one batch) at step 0: 0.0197\n",
      "Seen so far: 64 samples\n",
      "Training loss (for one batch) at step 200: 0.0301\n",
      "Seen so far: 12864 samples\n",
      "Training loss (for one batch) at step 400: 0.0034\n",
      "Seen so far: 25664 samples\n",
      "Training loss (for one batch) at step 600: 0.0177\n",
      "Seen so far: 38464 samples\n",
      "Training loss (for one batch) at step 800: 0.0342\n",
      "Seen so far: 51264 samples\n",
      "\n",
      "Start of epoch 8\n",
      "Training loss (for one batch) at step 0: 0.0203\n",
      "Seen so far: 64 samples\n",
      "Training loss (for one batch) at step 200: 0.0045\n",
      "Seen so far: 12864 samples\n",
      "Training loss (for one batch) at step 400: 0.0422\n",
      "Seen so far: 25664 samples\n",
      "Training loss (for one batch) at step 600: 0.0807\n",
      "Seen so far: 38464 samples\n",
      "Training loss (for one batch) at step 800: 0.0152\n",
      "Seen so far: 51264 samples\n",
      "\n",
      "Start of epoch 9\n",
      "Training loss (for one batch) at step 0: 0.0324\n",
      "Seen so far: 64 samples\n",
      "Training loss (for one batch) at step 200: 0.0115\n",
      "Seen so far: 12864 samples\n",
      "Training loss (for one batch) at step 400: 0.0021\n",
      "Seen so far: 25664 samples\n",
      "Training loss (for one batch) at step 600: 0.0201\n",
      "Seen so far: 38464 samples\n",
      "Training loss (for one batch) at step 800: 0.0038\n",
      "Seen so far: 51264 samples\n",
      "\n",
      "Start of epoch 10\n",
      "Training loss (for one batch) at step 0: 0.0605\n",
      "Seen so far: 64 samples\n",
      "Training loss (for one batch) at step 200: 0.0145\n",
      "Seen so far: 12864 samples\n",
      "Training loss (for one batch) at step 400: 0.0132\n",
      "Seen so far: 25664 samples\n",
      "Training loss (for one batch) at step 600: 0.0020\n",
      "Seen so far: 38464 samples\n",
      "Training loss (for one batch) at step 800: 0.0101\n",
      "Seen so far: 51264 samples\n",
      "\n",
      "Start of epoch 11\n",
      "Training loss (for one batch) at step 0: 0.0102\n",
      "Seen so far: 64 samples\n",
      "Training loss (for one batch) at step 200: 0.0247\n",
      "Seen so far: 12864 samples\n",
      "Training loss (for one batch) at step 400: 0.0056\n",
      "Seen so far: 25664 samples\n",
      "Training loss (for one batch) at step 600: 0.1517\n",
      "Seen so far: 38464 samples\n",
      "Training loss (for one batch) at step 800: 0.0199\n",
      "Seen so far: 51264 samples\n",
      "\n",
      "Start of epoch 12\n",
      "Training loss (for one batch) at step 0: 0.0169\n",
      "Seen so far: 64 samples\n",
      "Training loss (for one batch) at step 200: 0.0021\n",
      "Seen so far: 12864 samples\n",
      "Training loss (for one batch) at step 400: 0.0261\n",
      "Seen so far: 25664 samples\n",
      "Training loss (for one batch) at step 600: 0.0054\n",
      "Seen so far: 38464 samples\n",
      "Training loss (for one batch) at step 800: 0.0045\n",
      "Seen so far: 51264 samples\n",
      "\n",
      "Start of epoch 13\n",
      "Training loss (for one batch) at step 0: 0.0277\n",
      "Seen so far: 64 samples\n",
      "Training loss (for one batch) at step 200: 0.0036\n",
      "Seen so far: 12864 samples\n",
      "Training loss (for one batch) at step 400: 0.0386\n",
      "Seen so far: 25664 samples\n",
      "Training loss (for one batch) at step 600: 0.0014\n",
      "Seen so far: 38464 samples\n",
      "Training loss (for one batch) at step 800: 0.0176\n",
      "Seen so far: 51264 samples\n",
      "\n",
      "Start of epoch 14\n",
      "Training loss (for one batch) at step 0: 0.0028\n",
      "Seen so far: 64 samples\n",
      "Training loss (for one batch) at step 200: 0.0079\n",
      "Seen so far: 12864 samples\n",
      "Training loss (for one batch) at step 400: 0.0009\n",
      "Seen so far: 25664 samples\n",
      "Training loss (for one batch) at step 600: 0.0048\n",
      "Seen so far: 38464 samples\n",
      "Training loss (for one batch) at step 800: 0.0035\n",
      "Seen so far: 51264 samples\n"
     ]
    }
   ],
   "source": [
    "'''LEARNING LOOP'''\n",
    "epochs = 15\n",
    "for epoch in range(epochs):\n",
    "    print(\"\\nStart of epoch %d\" % (epoch,))\n",
    "\n",
    "    # Iterate over the batches of the dataset.\n",
    "    for step, (x_batch_train, y_batch_train) in enumerate(train_dataset):\n",
    "\n",
    "        # Open a GradientTape to record the operations run\n",
    "        # during the forward pass, which enables auto-differentiation.\n",
    "        with tf.GradientTape() as tape:\n",
    "\n",
    "            # Run the forward pass of the layer.\n",
    "            # The operations that the layer applies\n",
    "            # to its inputs are going to be recorded\n",
    "            # on the GradientTape.\n",
    "            logits = model(x_batch_train, training=True)  # Logits for this minibatch\n",
    "\n",
    "            # Compute the loss value for this minibatch.\n",
    "            loss_value = loss_fn(y_batch_train, logits)\n",
    "\n",
    "        # Use the gradient tape to automatically retrieve\n",
    "        # the gradients of the trainable variables with respect to the loss.\n",
    "        grads = tape.gradient(loss_value, model.trainable_weights)\n",
    "\n",
    "        # Run one step of gradient descent by updating\n",
    "        # the value of the variables to minimize the loss.\n",
    "        optimizer.apply_gradients(zip(grads, model.trainable_weights))\n",
    "\n",
    "        # Log every 200 batches.\n",
    "        if step % 200 == 0:\n",
    "            print(\"Training loss (for one batch) at step %d: %.4f\" %(step, float(loss_value)))\n",
    "            print(\"Seen so far: %s samples\" % ((step + 1) * 64))"
   ]
  },
  {
   "cell_type": "code",
   "execution_count": 15,
   "metadata": {},
   "outputs": [
    {
     "name": "stdout",
     "output_type": "stream",
     "text": [
      "Test set accuracy: 98.440%\n"
     ]
    }
   ],
   "source": [
    "test_accuracy = tf.keras.metrics.Accuracy()\n",
    "logits = model(x_test, training=False)\n",
    "prediction = tf.argmax(logits, axis=1, output_type=tf.int32)\n",
    "test_accuracy(prediction, y_test)\n",
    "print(\"Test set accuracy: {:.3%}\".format(test_accuracy.result()))\n"
   ]
  },
  {
   "cell_type": "code",
   "execution_count": 16,
   "metadata": {},
   "outputs": [
    {
     "data": {
      "text/plain": [
       "<tf.Tensor: shape=(10000, 2), dtype=int32, numpy=\n",
       "array([[7, 7],\n",
       "       [2, 2],\n",
       "       [1, 1],\n",
       "       ...,\n",
       "       [4, 4],\n",
       "       [5, 5],\n",
       "       [6, 6]])>"
      ]
     },
     "execution_count": 16,
     "metadata": {},
     "output_type": "execute_result"
    }
   ],
   "source": [
    "tf.stack([y_test,prediction],axis=1)"
   ]
  },
  {
   "cell_type": "code",
   "execution_count": 17,
   "metadata": {},
   "outputs": [
    {
     "name": "stderr",
     "output_type": "stream",
     "text": [
      "C:\\Users\\mateu\\anaconda3\\lib\\site-packages\\numpy\\core\\_asarray.py:83: VisibleDeprecationWarning: Creating an ndarray from ragged nested sequences (which is a list-or-tuple of lists-or-tuples-or ndarrays with different lengths or shapes) is deprecated. If you meant to do this, you must specify 'dtype=object' when creating the ndarray\n",
      "  return array(a, dtype, copy=False, order=order)\n"
     ]
    }
   ],
   "source": [
    "weight = model.get_weights()\n",
    "np.savetxt('weight.csv' , weight , fmt='%s', delimiter=',')"
   ]
  },
  {
   "cell_type": "code",
   "execution_count": null,
   "metadata": {},
   "outputs": [],
   "source": []
  },
  {
   "cell_type": "code",
   "execution_count": null,
   "metadata": {},
   "outputs": [],
   "source": []
  },
  {
   "cell_type": "code",
   "execution_count": null,
   "metadata": {},
   "outputs": [],
   "source": []
  }
 ],
 "metadata": {
  "kernelspec": {
   "display_name": "Python 3",
   "language": "python",
   "name": "python3"
  },
  "language_info": {
   "codemirror_mode": {
    "name": "ipython",
    "version": 3
   },
   "file_extension": ".py",
   "mimetype": "text/x-python",
   "name": "python",
   "nbconvert_exporter": "python",
   "pygments_lexer": "ipython3",
   "version": "3.8.5"
  }
 },
 "nbformat": 4,
 "nbformat_minor": 4
}
